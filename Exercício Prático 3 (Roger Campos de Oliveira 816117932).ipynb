{
 "cells": [
  {
   "cell_type": "markdown",
   "metadata": {},
   "source": [
    "Exercício Prático 3 (Roger Campos de Oliveira 816117932)\n",
    "\n",
    "Desvio Condicional\n",
    "\n",
    "1 - Faça um Programa que peça dois números e imprima o maior deles.\n"
   ]
  },
  {
   "cell_type": "code",
   "execution_count": 19,
   "metadata": {},
   "outputs": [
    {
     "name": "stdout",
     "output_type": "stream",
     "text": [
      "\n",
      " Digite o 1º numnero:2\n",
      "\n",
      " Digite o 2º numnero:3\n",
      "\n",
      " O maior entre os dois é: 3\n"
     ]
    }
   ],
   "source": [
    "n1 = int (input('\\n Digite o 1º numnero:'))\n",
    "n2 = int (input('\\n Digite o 2º numnero:'))\n",
    "\n",
    "if n1 > n2:\n",
    "  print('\\n O maior entre os dois é:',n1)\n",
    "else:\n",
    "  print('\\n O maior entre os dois é:',n2) "
   ]
  },
  {
   "cell_type": "markdown",
   "metadata": {},
   "source": [
    "2 - Faça um Programa que verifique se uma letra digitada é vogal ou consoante.\n"
   ]
  },
  {
   "cell_type": "code",
   "execution_count": 20,
   "metadata": {},
   "outputs": [
    {
     "name": "stdout",
     "output_type": "stream",
     "text": [
      "\n",
      " Digite uma letra:R\n",
      "\n",
      " R é consoante\n"
     ]
    }
   ],
   "source": [
    "l = input('\\n Digite uma letra:')\n",
    "vogal = ['a','e','i','o','u','A','E','I','O','U']\n",
    "cons = ['b','c','d','f','g','h','j','k','l','m','n','p','q','r','s','t','v','w','x','y','z','B','C','D','F','G','H','J','K','L','M','N','P','Q','R','S','T','V','W','X','Y','Z']\n",
    "if l in vogal:\n",
    "    print(f'\\n {l} é vogal')\n",
    "elif l in cons:\n",
    "    print(f'\\n {l} é consoante')\n",
    "else:\n",
    "    print(f'\\n {l} Não é uma letra')\n",
    "    "
   ]
  },
  {
   "cell_type": "markdown",
   "metadata": {},
   "source": [
    "3 - Faça um programa para a leitura de duas notas parciais de um aluno. O programa\n",
    "deve calcular a média alcançada por aluno e apresentar:\n",
    "- A mensagem \"Aprovado\", se a média alcançada for maior ou igual a sete;\n",
    "- A mensagem \"Reprovado\", se a média for menor do que sete;\n",
    "- A mensagem \"Aprovado com Distinção\", se a média for igual a dez."
   ]
  },
  {
   "cell_type": "code",
   "execution_count": 18,
   "metadata": {},
   "outputs": [
    {
     "name": "stdout",
     "output_type": "stream",
     "text": [
      "\n",
      " Digite a 1º nota:7\n",
      "\n",
      " Digite a 2º nota:8\n",
      "\n",
      " APROVADO :)\n"
     ]
    }
   ],
   "source": [
    "nota1 = int (input('\\n Digite a 1º nota:'))\n",
    "nota2 = int (input('\\n Digite a 2º nota:'))\n",
    "\n",
    "media = float ((nota1 + nota2)/2)\n",
    "if media >=7 and media <= 9:\n",
    "    print('\\n APROVADO :)')\n",
    "elif media < 7:\n",
    "    print('\\n REPROVADO :(')\n",
    "elif media == 10:\n",
    "    print('\\n APROVADO COM DISTINÇÃO :D')\n",
    "    "
   ]
  },
  {
   "cell_type": "markdown",
   "metadata": {},
   "source": [
    "4 - Faça um Programa que leia três números e mostre-os em ordem decrescente."
   ]
  },
  {
   "cell_type": "code",
   "execution_count": 3,
   "metadata": {},
   "outputs": [
    {
     "name": "stdout",
     "output_type": "stream",
     "text": [
      "\n",
      " Digite o 1º numero:10\n",
      "\n",
      " Digite o 2º numero:20\n",
      "\n",
      " Digite o 3º numero:30\n",
      "\n",
      " 30 , 20 , 10\n"
     ]
    }
   ],
   "source": [
    "n1 = int (input('\\n Digite o 1º numero:'))\n",
    "n2 = int (input('\\n Digite o 2º numero:'))\n",
    "n3 = int (input('\\n Digite o 3º numero:'))\n",
    "\n",
    "if n1 > n2 and n2 > n3:\n",
    "    print:('\\n',n1,',',n2,',',n3)\n",
    "elif n2 > n1 and n1 > n3:\n",
    "    print('\\n',n2,',',n1,',',n3)\n",
    "elif n3 > n1 and n2 > n1:\n",
    "    print('\\n',n3,',',n2,',',n1)\n",
    "elif n2 > n3 and n1 > n2:\n",
    "    print('\\n',n2,',',n3,',',n1)\n",
    "else:\n",
    "    print('Não Implementado!')\n",
    "    "
   ]
  },
  {
   "cell_type": "markdown",
   "metadata": {},
   "source": [
    "5 - As Organizações Tabajara resolveram dar um aumento de salário aos seus\n",
    "colaboradores e lhe contrataram para desenvolver o programa que calculará os\n",
    "reajustes.\n",
    "Faça um programa que recebe o salário de um colaborador e o reajuste segundo o\n",
    "seguinte critério, baseado no salário atual:\n",
    "- salários até R$ 280,00 (incluindo) : aumento de 20%\n",
    "- salários entre R$ 280,00 e R$ 700,00 : aumento de 15%\n",
    "- salários entre R$ 700,00 e R$ 1500,00 : aumento de 10%\n",
    "- salários de R$ 1500,00 em diante : aumento de 5% Após o aumento ser realizado,\n",
    "informe na tela:\n",
    "- o salário antes do reajuste;\n",
    "- o percentual de aumento aplicado;\n",
    "- o valor do aumento;\n",
    "- o novo salário, após o aumento."
   ]
  },
  {
   "cell_type": "code",
   "execution_count": 25,
   "metadata": {},
   "outputs": [
    {
     "name": "stdout",
     "output_type": "stream",
     "text": [
      "Digite o salário:1250.90\n",
      "\n",
      " Salario atual: R$ 1250.9\n",
      "\n",
      " Percentual de aumento: 10%\n",
      "\n",
      " Valor do aumento: R$ 125.08999999999992\n",
      "\n",
      " Novo sálario: R$ 1375.99\n"
     ]
    }
   ],
   "source": [
    "salario = float (input('Digite o salário:'))\n",
    "\n",
    "if salario <= 280:\n",
    "    salAtual = salario + (salario * 0.20)\n",
    "    percent = '20%'\n",
    "    valor= salAtual - salario\n",
    "    \n",
    "elif salario > 280 and salario <= 700:\n",
    "    salAtual = salario + (salario * 0.10)\n",
    "    percent = '15%'\n",
    "    valor= salAtual - salario\n",
    "    \n",
    "elif salario > 700 and salario <= 1500:\n",
    "    salAtual = salario + (salario * 0.10)\n",
    "    percent = '10%'\n",
    "    valor = salAtual - salario\n",
    "    \n",
    "elif salario > 1500:\n",
    "    salAtual = salario + (salario *0.05)\n",
    "    percent = '5%'\n",
    "    valor = salAtual - salario\n",
    "    \n",
    "    \n",
    "print('\\n Salario atual: R$',salario)\n",
    "print('\\n Percentual de aumento:',percent)\n",
    "print('\\n Valor do aumento: R$',valor)\n",
    "print('\\n Novo sálario: R$',salAtual)\n"
   ]
  },
  {
   "cell_type": "markdown",
   "metadata": {},
   "source": [
    "6 - Faça um Programa que leia um número e exiba o dia correspondente da semana. (1-Domingo, 2- Segunda, etc.), se digitar outro valor deve aparecer valor inválido.\n"
   ]
  },
  {
   "cell_type": "code",
   "execution_count": 31,
   "metadata": {},
   "outputs": [
    {
     "name": "stdout",
     "output_type": "stream",
     "text": [
      "Digite um número:6\n",
      "\n",
      " Sexta-feira\n"
     ]
    }
   ],
   "source": [
    "numero = int (input('Digite um número:'))\n",
    "\n",
    "if numero == 1:\n",
    "    print('\\n Domingo')\n",
    "    \n",
    "elif numero == 2:\n",
    "    print('\\n Segunda-feira')\n",
    "    \n",
    "elif numero == 3:\n",
    "    print('\\n Terça-feira')\n",
    "    \n",
    "elif numero == 4:\n",
    "    print('\\n Quarta-feira')\n",
    "    \n",
    "elif numero == 5:\n",
    "    print('\\n Quinta-feira')\n",
    "    \n",
    "elif numero == 6:\n",
    "    print('\\n Sexta-feira')\n",
    " \n",
    "elif numero == 7:\n",
    "    print('\\n Sábado')\n",
    "    \n",
    "else:\n",
    "    print('\\n NÚMERO INVÁLIDO')"
   ]
  },
  {
   "cell_type": "markdown",
   "metadata": {},
   "source": [
    "7 - Faça um programa que lê as duas notas parciais obtidas por um aluno numa disciplina ao longo de um semestre, e calcule a sua média. A atribuição de conceitos obedece à tabela abaixo:\n",
    "\n",
    "Média de Aproveitamento Conceito\n",
    "\n",
    "Entre 9.0 e 10.0 A\n",
    "Entre 7.5 e 9.0 B\n",
    "Entre 6.0 e 7.5 C\n",
    "Entre 4.0 e 6.0 D\n",
    "Entre 4.0 e zero E\n",
    "\n",
    "O algoritmo deve mostrar na tela as notas, a média, o conceito correspondente e a mensagem “APROVADO” se o conceito for A, B ou C ou “REPROVADO” se o conceito for D ou E.\n"
   ]
  },
  {
   "cell_type": "code",
   "execution_count": 42,
   "metadata": {},
   "outputs": [
    {
     "name": "stdout",
     "output_type": "stream",
     "text": [
      "Digite a 1ª nota:7\n",
      "Digite a 2ª nota:6\n",
      "\n",
      " 1ª Nota: 7.0\n",
      "\n",
      " 2º Nota: 6.0\n",
      "\n",
      " Média: 6.5\n",
      "\n",
      " Conceito: C\n",
      "\n",
      " Situação: APROVADO\n"
     ]
    }
   ],
   "source": [
    "nota1 = float (input('Digite a 1ª nota:'))\n",
    "nota2 = float (input('Digite a 2ª nota:'))\n",
    "\n",
    "media = ((nota1 + nota2)/2)\n",
    "\n",
    "if media >= 9 and media <= 10:\n",
    "    conceito = 'A'\n",
    "    situaçao = 'APROVADO'\n",
    "\n",
    "elif media >= 7.5 and media <= 9.0:\n",
    "    conceito = 'B'\n",
    "    situaçao = 'APROVADO'\n",
    "\n",
    "elif media >= 6.0 and media <= 7.5:\n",
    "    conceito = 'C'\n",
    "    situaçao = 'APROVADO'\n",
    "    \n",
    "elif media >= 4.0 and media <= 6.0:\n",
    "    conceito = 'D'\n",
    "    situaçao = 'REPROVADO'\n",
    "    \n",
    "elif media >= 0.0 and media <= 4.0:\n",
    "    conceito = 'E'\n",
    "    situaçao = 'REPROVADO' \n",
    "    \n",
    "print('\\n 1ª Nota:', nota1)\n",
    "print('\\n 2º Nota:', nota2)\n",
    "print('\\n Média:', media)\n",
    "print('\\n Conceito:', conceito)\n",
    "print('\\n Situação:', situaçao)\n",
    "    "
   ]
  },
  {
   "cell_type": "markdown",
   "metadata": {},
   "source": [
    "8 - Faça um Programa que peça os 3 lados de um triângulo. O programa deverá informar se os valores podem ser um triângulo. Indique, caso os lados formem um triângulo, se o mesmo é: equilátero, isósceles ou escaleno. \n",
    "Dicas: \n",
    "- Três lados formam um triângulo quando a soma de quaisquer dois lados for maior que o terceiro; \n",
    "- Triângulo Equilátero: três lados iguais; \n",
    "- Triângulo Isósceles: quaisquer dois lados iguais; \n",
    "- Triângulo Escaleno: três lados diferentes; \n"
   ]
  },
  {
   "cell_type": "code",
   "execution_count": 29,
   "metadata": {},
   "outputs": [
    {
     "name": "stdout",
     "output_type": "stream",
     "text": [
      "Lado 1:4\n",
      "Lado 2:5\n",
      "Lado 3:4\n",
      "\n",
      "É um TRIÂNGULO:\n",
      "ISÓCELES\n"
     ]
    }
   ],
   "source": [
    "lado1 = float (input('Lado 1:')) \n",
    "lado2 = float (input('Lado 2:'))\n",
    "lado3 = float (input('Lado 3:'))\n",
    "\n",
    "\n",
    "\n",
    "if (lado1 + lado2) > lado3 and lado3 < (lado1 + lado2) and (lado1 + lado3) > lado2 and lado2 < (lado1 + lado3) and (lado2 + lado3) > lado1 and lado1 < (lado2 + lado3):\n",
    "    print('\\nÉ um TRIÂNGULO:')    \n",
    "    \n",
    "if lado1 == lado2 == lado3:\n",
    "    print('EQUILÁTERO')\n",
    "\n",
    "elif lado1 == lado2 or lado1 == lado3 or lado2 == lado3:\n",
    "    print('ISÓCELES')\n",
    "\n",
    "elif lado1 != lado2 and lado1 != lado3 and lado2 != lado3:\n",
    "    print('ESCALENO')\n",
    "    "
   ]
  },
  {
   "cell_type": "markdown",
   "metadata": {},
   "source": [
    "9 - Faça um programa que calcule as raízes de uma equação do segundo grau, na forma ax2 + bx + c. \n",
    "O programa deverá pedir os valores de a, b e c e fazer as consistências, informando ao usuário nas seguintes situações: \n",
    "- Se o usuário informar o valor de A igual a zero, a equação não é do segundo grau e o programa não deve fazer pedir os demais valores, sendo encerrado; \n",
    "- Se o delta calculado for negativo, a equação não possui raizes reais. Informe ao usuário e encerre o programa; \n",
    "- Se o delta calculado for igual a zero a equação possui apenas uma raiz real; informe-a ao usuário; \n",
    "- Se o delta for positivo, a equação possui duas raiz reais; informe-as ao usuário; \n"
   ]
  },
  {
   "cell_type": "code",
   "execution_count": 5,
   "metadata": {},
   "outputs": [
    {
     "name": "stdout",
     "output_type": "stream",
     "text": [
      "Digite o valor de A:2\n",
      "Digite o valor de B:8\n",
      "Digite o valor de C:-24\n",
      "\n",
      "A equação possui duas raizes:\n",
      "\n",
      " 2.0\n",
      "\n",
      " -6.0\n"
     ]
    }
   ],
   "source": [
    "a = float (input('Digite o valor de A:'))\n",
    "\n",
    "if a == 0:\n",
    "    print('\\nA equação não é do segundo grau.')\n",
    "elif a != 0:    \n",
    "    b = float (input('Digite o valor de B:'))\n",
    "    c = float (input('Digite o valor de C:'))\n",
    "    delta = (b**2) - 4 * a * c\n",
    "    \n",
    "    if delta < 0:\n",
    "        print('A equação não possui raizes reais.')\n",
    "    elif delta == 0:\n",
    "        raiz = (-b)/(2*a)\n",
    "        print('A equação possui apenas uma raiz:')\n",
    "        print(raiz)\n",
    "    else:\n",
    "        raiz1 = (-b + (delta**(1/2))) / (2*a)\n",
    "        raiz2 = (-b - (delta**(1/2))) / (2*a)\n",
    "        print('\\nA equação possui duas raizes:')\n",
    "        print('\\n', raiz1)\n",
    "        print('\\n',raiz2)\n",
    "    "
   ]
  },
  {
   "cell_type": "markdown",
   "metadata": {},
   "source": [
    "10 - Faça um Programa para um caixa eletrônico. O programa deverá perguntar ao usuário a valor do saque e depois informar quantas notas de cada valor serão fornecidas. As notas disponíveis serão as de 1, 5, 10, 50 e 100 reais. O valor mínimo é de 10 reais e o máximo de 600 reais. O programa não deve se preocupar com a quantidade de notas existentes na máquina. \n",
    "- Exemplo 1: Para sacar a quantia de 256 reais, o programa fornece duas notas de 100, uma nota de 50, uma nota de 5 e uma nota de 1; \n",
    "- Exemplo 2: Para sacar a quantia de 399 reais, o programa fornece três notas de 100, uma nota de 50, quatro notas de 10, uma nota de 5 e quatro notas de 1. "
   ]
  },
  {
   "cell_type": "code",
   "execution_count": 22,
   "metadata": {},
   "outputs": [
    {
     "name": "stdout",
     "output_type": "stream",
     "text": [
      "Digite o valor a ser sacado: R$1987\n",
      "19 notas de R$100,00\n",
      "1 nota de R$50,00\n",
      "3 notas de R$10,00\n",
      "1 nota de R$5,00\n",
      "2 notas de R$1,00\n"
     ]
    }
   ],
   "source": [
    "valor = int (input('Digite o valor a ser sacado: R$'))\n",
    "\n",
    "if valor < 10:\n",
    "    print('\\nO valor minímo para saque é de R$10,00.')\n",
    "\n",
    "elif valor > 2000:\n",
    "    print('\\nO valor máximo permitido para saque é de R$2.000,00.')   \n",
    "else:    \n",
    "    if (valor % 100) == 0:\n",
    "        print ((int(valor/100)), 'notas de R$100,00')       \n",
    "    \n",
    "    elif valor < 100:            \n",
    "        if valor != 50:\n",
    "            print ((int(valor/50)), 'nota de R$50,00')\n",
    "            valor = valor % 50\n",
    "                \n",
    "            if valor != 10:\n",
    "                print ((int(valor/10)), 'notas de R$10,00')\n",
    "                valor = valor % 10\n",
    "                    \n",
    "                if valor != 5:\n",
    "                    print ((int(valor/5)), 'nota de R$5,00')\n",
    "                    valor = valor % 5\n",
    "                    print ((int(valor/1)), 'notas de R$1,00')\n",
    "                        \n",
    "                elif (valor % 5) == 0:\n",
    "                    print ((int(valor/5)), 'nota de R$5,00')\n",
    "                \n",
    "            elif (valor % 10) == 0:\n",
    "                print ((int(valor/10)), 'notas de R$10,00')\n",
    "                \n",
    "        elif (valor % 50) == 0:\n",
    "            print ((int(valor/50)), 'nota de R$50,00')   \n",
    "    \n",
    "    elif (valor % 100) != 0:            \n",
    "        if valor > 100:\n",
    "            print ((int(valor/100)), 'notas de R$100,00')\n",
    "            valor = valor % 100\n",
    "            \n",
    "            if valor != 50:\n",
    "                print ((int(valor/50)), 'nota de R$50,00')\n",
    "                valor = valor % 50\n",
    "                \n",
    "                if valor != 10:\n",
    "                    print ((int(valor/10)), 'notas de R$10,00')\n",
    "                    valor = valor % 10\n",
    "                    \n",
    "                    if valor != 5:\n",
    "                        print ((int(valor/5)), 'nota de R$5,00')\n",
    "                        valor = valor % 5\n",
    "                        print ((int(valor/1)), 'notas de R$1,00')\n",
    "                        \n",
    "                    elif (valor % 5) == 0:\n",
    "                        print ((int(valor/5)), 'nota de R$5,00')\n",
    "                \n",
    "                elif (valor % 10) == 0:\n",
    "                    print ((int(valor/10)), 'notas de R$10,00')\n",
    "                \n",
    "            elif (valor % 50) == 0:\n",
    "                print ((int(valor/50)), 'nota de R$50,00')\n",
    "                \n",
    "        elif (valor % 100) == 0:\n",
    "            print ((int(valor/100)), 'notas de R$100,00')\n",
    "            "
   ]
  },
  {
   "cell_type": "markdown",
   "metadata": {},
   "source": [
    "11 - Faça um programa que faça 5 perguntas para uma pessoa sobre um crime. As\n",
    "perguntas são:\n",
    "\"Telefonou para a vítima?\"\n",
    "\"Esteve no local do crime?\"\n",
    "\"Mora perto da vítima?\"\n",
    "\"Devia para a vítima?\"\n",
    "\"Já trabalhou com a vítima?\"\n",
    "O programa deve no final emitir uma classificação sobre a participação da pessoa no\n",
    "crime. Se a pessoa responder positivamente a 2 questões ela deve ser classificada\n",
    "como \"Suspeita\", entre 3 e 4 como \"Cúmplice\" e 5 como \"Assassino\". Caso contrário,\n",
    "ele será classificado como \"Inocente\"."
   ]
  },
  {
   "cell_type": "code",
   "execution_count": 2,
   "metadata": {},
   "outputs": [
    {
     "name": "stdout",
     "output_type": "stream",
     "text": [
      "DIGITE 1 PARA SIM E 2 PARA NÃO\n",
      "\n",
      "Telefonou para a vítima? Resposta: 1\n",
      "\n",
      "Esteve no local do crime? Resposta: 1\n",
      "\n",
      "Mora perto da vítima? Resposta: 2\n",
      "\n",
      "Devia para a vítima? Resposta: 2\n",
      "\n",
      "Já trabalhou com a vítima? Resposta: 1\n",
      "\n",
      "CÚMPLICE!!\n"
     ]
    }
   ],
   "source": [
    "print('DIGITE 1 PARA SIM E 2 PARA NÃO')\n",
    "per1 = int (input('\\nTelefonou para a vítima? Resposta: '))  \n",
    "per2 = int (input('\\nEsteve no local do crime? Resposta: '))\n",
    "per3 = int (input('\\nMora perto da vítima? Resposta: '))\n",
    "per4 = int (input('\\nDevia para a vítima? Resposta: '))\n",
    "per5 = int (input('\\nJá trabalhou com a vítima? Resposta: '))\n",
    "\n",
    "qtdSim = 0\n",
    "\n",
    "if per1 == 1:\n",
    "    qtdSim = qtdSim + 1\n",
    "if per2 == 1:\n",
    "    qtdSim = qtdSim + 1\n",
    "if per3 == 1:\n",
    "    qtdSim = qtdSim + 1\n",
    "if per4 == 1:\n",
    "    qtdSim = qtdSim + 1\n",
    "if per5 == 1:\n",
    "    qtdSim = qtdSim+ 1\n",
    "    \n",
    "if qtdSim == 2:\n",
    "    print('\\nSUSPEITO!')\n",
    "elif qtdSim == 3  or  qtdSim == 4:\n",
    "    print('\\nCÚMPLICE!!')\n",
    "elif qtdSim == 5:\n",
    "    print('\\nASSASINO!!!')\n",
    "else:\n",
    "    print('\\nINOCENTE')"
   ]
  },
  {
   "cell_type": "markdown",
   "metadata": {},
   "source": [
    "12 - Um hortifruti está vendendo frutas com a seguinte tabela de preços:\n",
    "\n",
    "Até 5 Kg: Morango R$ 2,50 por Kg - Maçã R$ 1,80 por Kg\n",
    "\n",
    "Acima de 5 Kg: Morango R$ 2,20 por Kg - Maçã R$ 1,50 por Kg\n",
    "\n",
    "Se o cliente comprar mais de 8 Kg em frutas ou o valor total da compra ultrapassar\n",
    "R$ 25,00, receberá ainda um desconto de 10% sobre este total. \n",
    "\n",
    "Escreva um algoritmo para ler a quantidade (em Kg) de morangos e a quantidade (em Kg) de\n",
    "maças adquiridas e escreva o valor a ser pago pelo cliente."
   ]
  },
  {
   "cell_type": "code",
   "execution_count": 13,
   "metadata": {},
   "outputs": [
    {
     "name": "stdout",
     "output_type": "stream",
     "text": [
      "Didite a quantidade em Kg de morangos: 9\n",
      "Didite a quantidade em Kg de maçãs: 8\n",
      "\n",
      "Recebeu desconto sobre o valor TOTAL da compra de: 10%\n",
      "\n",
      "Valor final Kg Morango: R$ 19.8\n",
      "\n",
      "Valor final Kg Maçã: R$ 12.0\n",
      "\n",
      "Valor TOTAL a ser pago: R$ 28.62\n"
     ]
    }
   ],
   "source": [
    "qtdMorango = float (input('Didite a quantidade em Kg de morangos: '))\n",
    "qtdMaça = float(input('Didite a quantidade em Kg de maçãs: ')) \n",
    "\n",
    "kgMorango = 0\n",
    "kgMaça = 0\n",
    "\n",
    "\n",
    "if qtdMorango <= 5:\n",
    "    kgMorango = qtdMorango * 2.50 \n",
    "    valorFinalMorango = kgMorango   \n",
    "else:\n",
    "    kgMorango = qtdMorango * 2.20\n",
    "    valorFinalMorango = kgMorango\n",
    "    \n",
    "if qtdMaça <= 5:\n",
    "    kgMaça =  qtdMaça * 1.80\n",
    "    valorFinalMaça = kgMaça    \n",
    "else:\n",
    "    kgMaça =  qtdMaça * 1.50    \n",
    "    valorFinalMaça = kgMaça\n",
    "    \n",
    "valorTotal = valorFinalMorango + valorFinalMaça    \n",
    "\n",
    "if qtdMorango > 8 or qtdMaça > 8 or valorTotal > 25.0:\n",
    "    valorTotal = valorTotal - ((valorTotal*100)/1000)\n",
    "    print('\\nRecebeu desconto sobre o valor TOTAL da compra de: 10%')\n",
    "\n",
    "\n",
    "print('\\nValor final Kg Morango: R$',valorFinalMorango)\n",
    "print('\\nValor final Kg Maçã: R$',valorFinalMaça)\n",
    "print('\\nValor TOTAL a ser pago: R$', valorTotal)\n"
   ]
  },
  {
   "cell_type": "markdown",
   "metadata": {},
   "source": [
    "Loops\n",
    "\n",
    "13 - Faça um programa que peça uma nota, entre zero e dez. Mostre uma mensagem caso o valor seja inválido e continue pedindo até que o usuário informe um valor válido.\n",
    "\n"
   ]
  },
  {
   "cell_type": "code",
   "execution_count": 1,
   "metadata": {},
   "outputs": [
    {
     "name": "stdout",
     "output_type": "stream",
     "text": [
      "Digita uma nota de 0 a 10: -1\n",
      "\n",
      "Digite uma nota válida!\n",
      "Digita uma nota de 0 a 10: 11\n",
      "\n",
      "Digite uma nota válida!\n",
      "Digita uma nota de 0 a 10: 8\n"
     ]
    }
   ],
   "source": [
    "while True:\n",
    "    nota = int (input('Digita uma nota de 0 a 10: '))\n",
    "    if nota < 0 or nota > 10:\n",
    "        print('\\nDigite uma nota válida!')\n",
    "    else:\n",
    "        break\n",
    "    "
   ]
  },
  {
   "cell_type": "markdown",
   "metadata": {},
   "source": [
    "13 - Faça um programa que leia e valide as seguintes informações: Nome: maior que 3 caracteres; Idade: entre 0 e 150; Salário: maior que zero; Sexo: 'f' ou 'm'; Estado Civil: 's', 'c', 'v', 'd';\n"
   ]
  },
  {
   "cell_type": "code",
   "execution_count": 1,
   "metadata": {},
   "outputs": [
    {
     "name": "stdout",
     "output_type": "stream",
     "text": [
      "\n",
      "Digite um nome: Roger\n",
      "\n",
      "Verificado!\n",
      "\n",
      "Digite uma idade: 20\n",
      "\n",
      "Verificado!\n",
      "\n",
      "Digite um salario: 3500\n",
      "\n",
      "Verificado!\n",
      "\n",
      "Digite um sexo: m\n",
      "\n",
      "Verificado!\n",
      "\n",
      "Digite um estado civil: s\n",
      "\n",
      "Verificado!\n"
     ]
    }
   ],
   "source": [
    "verifica = 0\n",
    "while verifica != 1:\n",
    "    nome = input(\"\\nDigite um nome: \")\n",
    "    if len(nome) > 3:\n",
    "        print(\"\\nVerificado!\")\n",
    "    else:\n",
    "        print(\"\\nInvalido!\")\n",
    "        continue\n",
    "        \n",
    "    idade = int(input(\"\\nDigite uma idade: \"))\n",
    "    if idade >= 0 and idade <= 150:\n",
    "        print(\"\\nVerificado!\")\n",
    "    else:\n",
    "        print(\"\\nInvalido!\")\n",
    "        continue\n",
    "      \n",
    "    salario = float(input(\"\\nDigite um salario: \"))\n",
    "    if salario >= 0:\n",
    "        print(\"\\nVerificado!\")\n",
    "    else: \n",
    "        print(\"\\nInvalido!\")\n",
    "        continue\n",
    "    \n",
    "    sexo = input(\"\\nDigite um sexo: \")\n",
    "    if sexo == 'f' or sexo == 'm':\n",
    "         print(\"\\nVerificado!\")\n",
    "    else: \n",
    "        print(\"\\nInvalido!\")\n",
    "        continue\n",
    "    \n",
    "    estado = input(\"\\nDigite um estado civil: \")\n",
    "    if estado == 's' or estado == 'c' or estado == 'v' or estado == 'd':\n",
    "         print(\"\\nVerificado!\")\n",
    "    else: \n",
    "        print(\"\\nInvalido!\")\n",
    "        continue\n",
    "    break"
   ]
  },
  {
   "cell_type": "markdown",
   "metadata": {},
   "source": [
    "14 - Faça um programa que leia 5 números e informe o maior número\n"
   ]
  },
  {
   "cell_type": "code",
   "execution_count": 6,
   "metadata": {},
   "outputs": [
    {
     "name": "stdout",
     "output_type": "stream",
     "text": [
      "\n",
      "Digite um numero: 6\n",
      "\n",
      "Digite um numero: 10\n",
      "\n",
      "Digite um numero: 21\n",
      "\n",
      "Digite um numero: 18\n",
      "\n",
      "Digite um numero: 9\n",
      "\n",
      "O maior número é 21\n"
     ]
    }
   ],
   "source": [
    "maior = 0\n",
    "count = 0\n",
    "while count < 5:\n",
    "    num = int(input('\\nDigite um numero: '))\n",
    "    if num > maior:\n",
    "        maior = num\n",
    "    count = count + 1\n",
    "else:\n",
    "    print('\\nO maior número é',maior)"
   ]
  },
  {
   "cell_type": "markdown",
   "metadata": {},
   "source": [
    "15 - Faça um programa que leia 5 números e informe a soma e a média dos números."
   ]
  },
  {
   "cell_type": "code",
   "execution_count": 1,
   "metadata": {},
   "outputs": [
    {
     "name": "stdout",
     "output_type": "stream",
     "text": [
      "\n",
      "Digite uma nota: 8\n",
      "\n",
      "Digite uma nota: 9\n",
      "\n",
      "Digite uma nota: 5\n",
      "\n",
      "Digite uma nota: 7\n",
      "\n",
      "Digite uma nota: 6\n",
      "\n",
      "Soma: 35\n",
      "\n",
      "Media: 7.0\n"
     ]
    }
   ],
   "source": [
    "soma=0\n",
    "media = 0\n",
    "cont = 0 \n",
    "\n",
    "while cont != 5:\n",
    "    nota = int(input(\"\\nDigite uma nota: \"))\n",
    "    soma = soma + nota\n",
    "    cont = cont + 1\n",
    "print(\"\\nSoma: \" + str(soma))\n",
    "media = soma / 5\n",
    "print(\"\\nMedia: \" + str(media))"
   ]
  },
  {
   "cell_type": "markdown",
   "metadata": {},
   "source": [
    "16 - Faça um programa que imprima na tela apenas os números ímpares entre 1 e 50."
   ]
  },
  {
   "cell_type": "code",
   "execution_count": 3,
   "metadata": {},
   "outputs": [
    {
     "name": "stdout",
     "output_type": "stream",
     "text": [
      "1\n",
      "3\n",
      "5\n",
      "7\n",
      "9\n",
      "11\n",
      "13\n",
      "15\n",
      "17\n",
      "19\n",
      "21\n",
      "23\n",
      "25\n",
      "27\n",
      "29\n",
      "31\n",
      "33\n",
      "35\n",
      "37\n",
      "39\n",
      "41\n",
      "43\n",
      "45\n",
      "47\n",
      "49\n"
     ]
    }
   ],
   "source": [
    "for numero in range(1,50):\n",
    "    if numero % 2 != 0:\n",
    "        print(numero)"
   ]
  },
  {
   "cell_type": "markdown",
   "metadata": {},
   "source": [
    "17 -Desenvolva um gerador de tabuada, capaz de gerar a tabuada de qualquer\n",
    "número inteiro entre 1 a 10. O usuário deve informar de qual numero ele deseja ver\n",
    "a tabuada."
   ]
  },
  {
   "cell_type": "code",
   "execution_count": 4,
   "metadata": {},
   "outputs": [
    {
     "name": "stdout",
     "output_type": "stream",
     "text": [
      "Digita um número de 1 a 10: 7\n",
      "7 X 1 = 7\n",
      "7 X 2 = 14\n",
      "7 X 3 = 21\n",
      "7 X 4 = 28\n",
      "7 X 5 = 35\n",
      "7 X 6 = 42\n",
      "7 X 7 = 49\n",
      "7 X 8 = 56\n",
      "7 X 9 = 63\n",
      "7 X 10 = 70\n"
     ]
    }
   ],
   "source": [
    "num = int(input('Digita um número de 1 a 10: '))\n",
    "if num not in range(1,11):\n",
    "    print('Numero inválido! Digite um número de 1 a 10!')\n",
    "else:\n",
    "    for val in range(1,11):\n",
    "        result = num*val\n",
    "        print(str(num) + ' X ' + str(val) + ' = ' + str(result))"
   ]
  },
  {
   "cell_type": "markdown",
   "metadata": {},
   "source": [
    "18 - A série de Fibonacci é formada pela seqüência 1,1,2,3,5,8,13,21,34,55,... Faça um\n",
    "programa capaz de gerar a série até o n−ésimo termo."
   ]
  },
  {
   "cell_type": "code",
   "execution_count": 7,
   "metadata": {},
   "outputs": [
    {
     "name": "stdout",
     "output_type": "stream",
     "text": [
      "Digite um número: 155\n",
      "1\n",
      "2\n",
      "3\n",
      "5\n",
      "8\n",
      "13\n",
      "21\n",
      "34\n",
      "55\n",
      "89\n",
      "144\n",
      "233\n",
      "377\n",
      "610\n",
      "987\n",
      "1597\n",
      "2584\n",
      "4181\n",
      "6765\n",
      "10946\n",
      "17711\n",
      "28657\n",
      "46368\n",
      "75025\n",
      "121393\n",
      "196418\n",
      "317811\n",
      "514229\n",
      "832040\n",
      "1346269\n",
      "2178309\n",
      "3524578\n",
      "5702887\n",
      "9227465\n",
      "14930352\n",
      "24157817\n",
      "39088169\n",
      "63245986\n",
      "102334155\n",
      "165580141\n",
      "267914296\n",
      "433494437\n",
      "701408733\n",
      "1134903170\n",
      "1836311903\n",
      "2971215073\n",
      "4807526976\n",
      "7778742049\n",
      "12586269025\n",
      "20365011074\n",
      "32951280099\n",
      "53316291173\n",
      "86267571272\n",
      "139583862445\n",
      "225851433717\n",
      "365435296162\n",
      "591286729879\n",
      "956722026041\n",
      "1548008755920\n",
      "2504730781961\n",
      "4052739537881\n",
      "6557470319842\n",
      "10610209857723\n",
      "17167680177565\n",
      "27777890035288\n",
      "44945570212853\n",
      "72723460248141\n",
      "117669030460994\n",
      "190392490709135\n",
      "308061521170129\n",
      "498454011879264\n",
      "806515533049393\n",
      "1304969544928657\n",
      "2111485077978050\n",
      "3416454622906707\n",
      "5527939700884757\n",
      "8944394323791464\n",
      "14472334024676221\n",
      "23416728348467685\n",
      "37889062373143906\n",
      "61305790721611591\n",
      "99194853094755497\n",
      "160500643816367088\n",
      "259695496911122585\n",
      "420196140727489673\n",
      "679891637638612258\n",
      "1100087778366101931\n",
      "1779979416004714189\n",
      "2880067194370816120\n",
      "4660046610375530309\n",
      "7540113804746346429\n",
      "12200160415121876738\n",
      "19740274219868223167\n",
      "31940434634990099905\n",
      "51680708854858323072\n",
      "83621143489848422977\n",
      "135301852344706746049\n",
      "218922995834555169026\n",
      "354224848179261915075\n",
      "573147844013817084101\n",
      "927372692193078999176\n",
      "1500520536206896083277\n",
      "2427893228399975082453\n",
      "3928413764606871165730\n",
      "6356306993006846248183\n",
      "10284720757613717413913\n",
      "16641027750620563662096\n",
      "26925748508234281076009\n",
      "43566776258854844738105\n",
      "70492524767089125814114\n",
      "114059301025943970552219\n",
      "184551825793033096366333\n",
      "298611126818977066918552\n",
      "483162952612010163284885\n",
      "781774079430987230203437\n",
      "1264937032042997393488322\n",
      "2046711111473984623691759\n",
      "3311648143516982017180081\n",
      "5358359254990966640871840\n",
      "8670007398507948658051921\n",
      "14028366653498915298923761\n",
      "22698374052006863956975682\n",
      "36726740705505779255899443\n",
      "59425114757512643212875125\n",
      "96151855463018422468774568\n",
      "155576970220531065681649693\n",
      "251728825683549488150424261\n",
      "407305795904080553832073954\n",
      "659034621587630041982498215\n",
      "1066340417491710595814572169\n",
      "1725375039079340637797070384\n",
      "2791715456571051233611642553\n",
      "4517090495650391871408712937\n",
      "7308805952221443105020355490\n",
      "11825896447871834976429068427\n",
      "19134702400093278081449423917\n",
      "30960598847965113057878492344\n",
      "50095301248058391139327916261\n",
      "81055900096023504197206408605\n",
      "131151201344081895336534324866\n",
      "212207101440105399533740733471\n",
      "343358302784187294870275058337\n",
      "555565404224292694404015791808\n",
      "898923707008479989274290850145\n",
      "1454489111232772683678306641953\n",
      "2353412818241252672952597492098\n",
      "3807901929474025356630904134051\n",
      "6161314747715278029583501626149\n",
      "9969216677189303386214405760200\n",
      "16130531424904581415797907386349\n",
      "26099748102093884802012313146549\n",
      "42230279526998466217810220532898\n",
      "68330027629092351019822533679447\n",
      "110560307156090817237632754212345\n"
     ]
    }
   ],
   "source": [
    "num = int(input('Digite um número: '))\n",
    "atual = 1\n",
    "anterior = 0\n",
    "count = 1\n",
    "while count != num:\n",
    "    atual = atual+anterior\n",
    "    print(atual)\n",
    "    anterior = atual-anterior\n",
    "    count = count + 1"
   ]
  },
  {
   "cell_type": "markdown",
   "metadata": {},
   "source": [
    "19 - Faça um programa que calcule o fatorial de um número inteiro fornecido pelo\n",
    "usuário. Ex.: 5!=5.4.3.2.1=120"
   ]
  },
  {
   "cell_type": "code",
   "execution_count": 11,
   "metadata": {},
   "outputs": [
    {
     "name": "stdout",
     "output_type": "stream",
     "text": [
      "Digite um número: 5\n",
      "\n",
      " 120\n"
     ]
    }
   ],
   "source": [
    "num = int(input('Digite um número: '))\n",
    "result = 1\n",
    "while num > 0:\n",
    "    result = result*num\n",
    "    num = num-1\n",
    "else:\n",
    "    print('\\n',result)"
   ]
  },
  {
   "cell_type": "markdown",
   "metadata": {},
   "source": [
    "20 -O Sr. Manoel Joaquim possui uma grande loja de artigos de RS 1.99, com cerca\n",
    "de 10 caixas. Para agilizar o cálculo de quanto cada cliente deve pagar ele\n",
    "desenvolveu um tabela que contém o número de itens que o cliente comprou e ao\n",
    "lado o valor da conta. Desta forma a atendente do caixa precisa apenas contar\n",
    "quantos itens o cliente está levando e olhar na tabela de preços. Você foi contratado\n",
    "para desenvolver o programa que monta esta tabela de preços, que conterá os\n",
    "preços de 1 até 50 produtos, conforme o exemplo abaixo:\n",
    "Lojas Quase Dois - Tabela de preços\n",
    "1 - RS 1.99\n",
    "2 - RS 3.98\n",
    "...\n",
    "50 - RS 99.50"
   ]
  },
  {
   "cell_type": "code",
   "execution_count": 15,
   "metadata": {},
   "outputs": [
    {
     "name": "stdout",
     "output_type": "stream",
     "text": [
      "Lojas Quase Dois\n",
      "\n",
      "Tabela de preços\n",
      "\n",
      "1 - R$ 1.99\n",
      "2 - R$ 3.98\n",
      "3 - R$ 5.97\n",
      "4 - R$ 7.96\n",
      "5 - R$ 9.95\n",
      "6 - R$ 11.94\n",
      "7 - R$ 13.93\n",
      "8 - R$ 15.92\n",
      "9 - R$ 17.91\n",
      "10 - R$ 19.9\n",
      "11 - R$ 21.89\n",
      "12 - R$ 23.88\n",
      "13 - R$ 25.87\n",
      "14 - R$ 27.86\n",
      "15 - R$ 29.85\n",
      "16 - R$ 31.84\n",
      "17 - R$ 33.83\n",
      "18 - R$ 35.82\n",
      "19 - R$ 37.81\n",
      "20 - R$ 39.8\n",
      "21 - R$ 41.79\n",
      "22 - R$ 43.78\n",
      "23 - R$ 45.77\n",
      "24 - R$ 47.76\n",
      "25 - R$ 49.75\n",
      "26 - R$ 51.74\n",
      "27 - R$ 53.73\n",
      "28 - R$ 55.72\n",
      "29 - R$ 57.71\n",
      "30 - R$ 59.7\n",
      "31 - R$ 61.69\n",
      "32 - R$ 63.68\n",
      "33 - R$ 65.67\n",
      "34 - R$ 67.66\n",
      "35 - R$ 69.65\n",
      "36 - R$ 71.64\n",
      "37 - R$ 73.63\n",
      "38 - R$ 75.62\n",
      "39 - R$ 77.61\n",
      "40 - R$ 79.6\n",
      "41 - R$ 81.59\n",
      "42 - R$ 83.58\n",
      "43 - R$ 85.57\n",
      "44 - R$ 87.56\n",
      "45 - R$ 89.55\n",
      "46 - R$ 91.54\n",
      "47 - R$ 93.53\n",
      "48 - R$ 95.52\n",
      "49 - R$ 97.51\n",
      "50 - R$ 99.5\n"
     ]
    }
   ],
   "source": [
    "print('Lojas Quase Dois\\n\\nTabela de preços\\n')\n",
    "for val in range(1,51):\n",
    "    print(str(val) + ' - R$ ' + str(1.99*val))"
   ]
  },
  {
   "cell_type": "markdown",
   "metadata": {},
   "source": [
    "21 - O Sr. Manoel Joaquim acaba de adquirir uma panificadora e pretende implantar\n",
    "a metodologia da tabelinha, que já é um sucesso na sua loja de 1,99. Você foi\n",
    "contratado para desenvolver o programa que monta a tabela de preços de pães, de\n",
    "1 até 50 pães, a partir do preço do pão informado pelo usuário, conforme o exemplo\n",
    "abaixo:\n",
    "Preço do pão: RS 0.18\n",
    "Panificadora Pão de Ontem - Tabela de preços\n",
    "1 - RS 0.18\n",
    "2 - RS 0.36\n",
    "...\n",
    "50 - RS 9.00"
   ]
  },
  {
   "cell_type": "code",
   "execution_count": 18,
   "metadata": {},
   "outputs": [
    {
     "name": "stdout",
     "output_type": "stream",
     "text": [
      "Digite o preço do pão: 0.25\n",
      "\n",
      "Panificadora Pão de Ontem\n",
      "\n",
      "Tabela de preços\n",
      "\n",
      "1 - R$ 0.25\n",
      "2 - R$ 0.5\n",
      "3 - R$ 0.75\n",
      "4 - R$ 1.0\n",
      "5 - R$ 1.25\n",
      "6 - R$ 1.5\n",
      "7 - R$ 1.75\n",
      "8 - R$ 2.0\n",
      "9 - R$ 2.25\n",
      "10 - R$ 2.5\n",
      "11 - R$ 2.75\n",
      "12 - R$ 3.0\n",
      "13 - R$ 3.25\n",
      "14 - R$ 3.5\n",
      "15 - R$ 3.75\n",
      "16 - R$ 4.0\n",
      "17 - R$ 4.25\n",
      "18 - R$ 4.5\n",
      "19 - R$ 4.75\n",
      "20 - R$ 5.0\n",
      "21 - R$ 5.25\n",
      "22 - R$ 5.5\n",
      "23 - R$ 5.75\n",
      "24 - R$ 6.0\n",
      "25 - R$ 6.25\n",
      "26 - R$ 6.5\n",
      "27 - R$ 6.75\n",
      "28 - R$ 7.0\n",
      "29 - R$ 7.25\n",
      "30 - R$ 7.5\n",
      "31 - R$ 7.75\n",
      "32 - R$ 8.0\n",
      "33 - R$ 8.25\n",
      "34 - R$ 8.5\n",
      "35 - R$ 8.75\n",
      "36 - R$ 9.0\n",
      "37 - R$ 9.25\n",
      "38 - R$ 9.5\n",
      "39 - R$ 9.75\n",
      "40 - R$ 10.0\n",
      "41 - R$ 10.25\n",
      "42 - R$ 10.5\n",
      "43 - R$ 10.75\n",
      "44 - R$ 11.0\n",
      "45 - R$ 11.25\n",
      "46 - R$ 11.5\n",
      "47 - R$ 11.75\n",
      "48 - R$ 12.0\n",
      "49 - R$ 12.25\n",
      "50 - R$ 12.5\n"
     ]
    }
   ],
   "source": [
    "num = float(input('Digite o preço do pão: '))\n",
    "print('\\nPanificadora Pão de Ontem\\n\\nTabela de preços\\n')\n",
    "for val in range(1,51):\n",
    "    print(str(val) + ' - R$ ' + str(val*num))"
   ]
  },
  {
   "cell_type": "markdown",
   "metadata": {},
   "source": [
    "22 - O Sr. Manoel Joaquim expandiu seus negócios para além dos negócios de 1,99 e\n",
    "agora possui uma loja de conveniências. Faça um programa que implemente uma\n",
    "caixa registradora rudimentar. O programa deverá receber um número\n",
    "desconhecido de valores referentes aos preços das mercadorias. Um valor zero deve\n",
    "ser informado pelo operador para indicar o final da compra. O programa deve então\n",
    "mostrar o total da compra e perguntar o valor em dinheiro que o cliente forneceu,\n",
    "para então calcular e mostrar o valor do troco. Após esta operação, o programa\n",
    "deverá voltar ao ponto inicial, para registrar a próxima compra. A saída deve ser\n",
    "conforme o exemplo abaixo:\n",
    "Lojas Tabajara\n",
    "Produto 1: RS 2.20\n",
    "Produto 2: RS 5.80\n",
    "Produto 3: RS 0\n",
    "Total: RS 8.00\n",
    "Dinheiro: R$ 20.00\n",
    "Troco: RS 12.00\n",
    "..."
   ]
  },
  {
   "cell_type": "code",
   "execution_count": null,
   "metadata": {},
   "outputs": [
    {
     "name": "stdout",
     "output_type": "stream",
     "text": [
      "Lojas Tabajara\n",
      "Produto 1: R$ 2.20\n",
      "Produto 2: R$ 5.80\n",
      "Produto 3: R$ 0\n",
      "Total: R$ 8.0\n",
      "Dinheiro: R$ 20\n",
      "Troco: R$: 12.0\n"
     ]
    }
   ],
   "source": [
    "print('Lojas Tabajara')\n",
    "total = 0\n",
    "dinheiro = 0\n",
    "count = 0\n",
    "while True:\n",
    "    count = count + 1 \n",
    "    val = float(input('Produto ' + str(count) + ': R$ '))\n",
    "    if val == 0:\n",
    "        print('Total: R$ ' + str(total))\n",
    "        dinheiro = float(input('Dinheiro: R$ '))\n",
    "        print('Troco: R$: ' + str(dinheiro-total))\n",
    "        count = 0\n",
    "        total = 0\n",
    "        dinheiro = 0\n",
    "        pass\n",
    "    else:\n",
    "        total = total + val\n",
    "        pass"
   ]
  },
  {
   "cell_type": "markdown",
   "metadata": {},
   "source": [
    "23 - Foi feita uma estatística em cinco cidades brasileiras para coletar dados sobre\n",
    "acidentes de trânsito. Foram obtidos os seguintes dados:\n",
    "- Código da cidade;\n",
    "- Número de veículos de passeio (em 1999);\n",
    "- Número de acidentes de trânsito com vítimas (em 1999).\n",
    "Deseja-se saber:\n",
    "- Qual o maior e menor índice de acidentes de transito e a que cidade pertence;\n",
    "- Qual a média de veículos nas cinco cidades juntas;\n",
    "- Qual a média de acidentes de trânsito nas cidades com menos de 2.000 veículos de\n",
    "passeio."
   ]
  },
  {
   "cell_type": "code",
   "execution_count": 1,
   "metadata": {},
   "outputs": [
    {
     "name": "stdout",
     "output_type": "stream",
     "text": [
      "\n",
      "Codigo da cidade: 1\n",
      "\n",
      "Numero de veiculos de passeio: 800\n",
      "\n",
      "Numero de acidentes: 400\n",
      "\n",
      "Codigo da cidade: 2\n",
      "\n",
      "Numero de veiculos de passeio: 600\n",
      "\n",
      "Numero de acidentes: 300\n",
      "\n",
      "Codigo da cidade: 3\n",
      "\n",
      "Numero de veiculos de passeio: 500\n",
      "\n",
      "Numero de acidentes: 44\n",
      "\n",
      "Codigo da cidade: 4\n",
      "\n",
      "Numero de veiculos de passeio: 1200\n",
      "\n",
      "Numero de acidentes: 600\n",
      "\n",
      "Codigo da cidade: 5\n",
      "\n",
      "Numero de veiculos de passeio: 300\n",
      "\n",
      "Numero de acidentes: 50\n",
      "\n",
      "Maior indice de acidentes:  600\n",
      "\n",
      "Menor indice de acidentes:  44\n",
      "\n",
      "Media de veículos:  680.0\n",
      "\n",
      "Média de acidentes de transito nas cidades com menos de 2 Mil veículos:  278.8\n"
     ]
    }
   ],
   "source": [
    "tamanho = 5\n",
    "cod_cidade =  [0] * tamanho\n",
    "n_acidentes = [0] * tamanho\n",
    "n_veiculos =  [0] * tamanho\n",
    "\n",
    "for i in range(tamanho):\n",
    "    cod_cidade[1] = int(input('\\nCodigo da cidade: '))\n",
    "    n_veiculos[i] = int(input('\\nNumero de veiculos de passeio: '))\n",
    "    n_acidentes[i]= int(input('\\nNumero de acidentes: ')) \n",
    "    \n",
    "def SomaAcidentes(listaAcidentes):\n",
    "    totalAcidentes=0\n",
    "    for numeroLista1 in listaAcidentes:\n",
    "        totalAcidentes += numeroLista1\n",
    "    return totalAcidentes\n",
    "    \n",
    "def SomaVeiculos(listaVeiculos):\n",
    "    totalVeiculos=0\n",
    "    for numeroLista2 in listaVeiculos:\n",
    "        totalVeiculos += numeroLista2\n",
    "    return totalVeiculos\n",
    "\n",
    "def MediaVeiculos(listaVeiculos):\n",
    "    return (SomaVeiculos(n_veiculos) / len(listaVeiculos))\n",
    "\n",
    "def MediaAcidentes(listaAcidentes):\n",
    "    return (SomaAcidentes(n_acidentes) / len(listaAcidentes))\n",
    "\n",
    "print ('\\nMaior indice de acidentes: ',max(n_acidentes))\n",
    "print ('\\nMenor indice de acidentes: ',min(n_acidentes))\n",
    "print ('\\nMedia de veículos: ', MediaVeiculos(n_veiculos))\n",
    "print ('\\nMédia de acidentes de transito nas cidades com menos de 2 Mil veículos: ', MediaAcidentes(n_acidentes))"
   ]
  },
  {
   "cell_type": "markdown",
   "metadata": {},
   "source": [
    "24 - Faça um programa que receba o valor de uma dívida e mostre uma tabela com\n",
    "os seguintes dados: valor da dívida, valor dos juros, quantidade de parcelas e valor\n",
    "da parcela.\n",
    "Os juros e a quantidade de parcelas seguem a tabela abaixo:\n",
    "Quantidade de Parcelas % de Juros sobre o valor inicial da dívida\n",
    "1 0\n",
    "3 10\n",
    "6 15\n",
    "9 20\n",
    "12 25\n",
    "Exemplo de saída do programa:\n",
    "Valor da Dívida Valor dos Juros Quantidade de Parcelas Valor da Parcela\n",
    "RS 1.000,00 0 1 RS 1.000,00\n",
    "RS 1.100,00 100 3 RS 366,00\n",
    "RS 1.150,00 150 6 RS 191,67"
   ]
  },
  {
   "cell_type": "code",
   "execution_count": 7,
   "metadata": {},
   "outputs": [
    {
     "name": "stdout",
     "output_type": "stream",
     "text": [
      "Digite o valor da dívida: 300\n",
      "Valor da Dívida     Valor dos Juros      Quantidade de Parcelas      Valor da Parcela\n",
      "R$ 300.0           0                   1                           300.0\n",
      "R$ 300.0           45.0                3                           330.0\n",
      "R$ 300.0           30.0                6                           345.0\n",
      "R$ 300.0           60.0                9                           360.0\n",
      "R$ 300.0           75.0                12                          375.0\n"
     ]
    }
   ],
   "source": [
    "num = float(input('Digite o valor da dívida: '))\n",
    "print('Valor da Dívida     Valor dos Juros      Quantidade de Parcelas      Valor da Parcela')\n",
    "print('R$ ' + str(num) + '           0                   1                           ' + str(num))\n",
    "print('R$ ' + str(num) + '           '+str(num*(15/100))+'                3                           ' + str(num + (num*(10/100))))\n",
    "print('R$ ' + str(num) + '           '+str(num*(10/100))+'                6                           ' + str(num + (num*(15/100))))\n",
    "print('R$ ' + str(num) + '           '+str(num*(20/100))+'                9                           ' + str(num + (num*(20/100))))\n",
    "print('R$ ' + str(num) + '           '+str(num*(25/100))+'                12                          ' + str(num + (num*(25/100))))"
   ]
  },
  {
   "cell_type": "markdown",
   "metadata": {},
   "source": [
    "25 - Faça um programa que mostre os n termos da Série a seguir:\n",
    " S = 1/1 + 2/3 + 3/5 + 4/7 + 5/9 + ... + n/m.\n",
    "Imprima no final a soma da série."
   ]
  },
  {
   "cell_type": "code",
   "execution_count": 10,
   "metadata": {},
   "outputs": [
    {
     "name": "stdout",
     "output_type": "stream",
     "text": [
      "Digite um numero: 21\n",
      "\n",
      " 11.752031727133486\n"
     ]
    }
   ],
   "source": [
    "num = int(input('Digite um numero: '))\n",
    "count = 1\n",
    "total = 0\n",
    "f = 1\n",
    "s = 1\n",
    "while count <= num:\n",
    "    total = total + (f/s)\n",
    "    f = f+1\n",
    "    s = s+2\n",
    "    count = count +1\n",
    "else:\n",
    "    print('\\n',total)"
   ]
  },
  {
   "cell_type": "code",
   "execution_count": null,
   "metadata": {},
   "outputs": [],
   "source": []
  }
 ],
 "metadata": {
  "kernelspec": {
   "display_name": "Python 3",
   "language": "python",
   "name": "python3"
  },
  "language_info": {
   "codemirror_mode": {
    "name": "ipython",
    "version": 3
   },
   "file_extension": ".py",
   "mimetype": "text/x-python",
   "name": "python",
   "nbconvert_exporter": "python",
   "pygments_lexer": "ipython3",
   "version": "3.6.4"
  }
 },
 "nbformat": 4,
 "nbformat_minor": 2
}
