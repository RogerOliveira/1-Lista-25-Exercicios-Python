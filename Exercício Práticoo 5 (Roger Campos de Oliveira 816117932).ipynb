{
 "cells": [
  {
   "cell_type": "markdown",
   "metadata": {},
   "source": [
    "## Linha: Crie a classe Linha que tem dois atributos, coordenada1 e coordenada2.\n",
    "\n",
    "Cada coordenada é uma tupla que carrega duas coordenadas cartesianas (x,y) que\n",
    "denotam pontos do segmento de reta. Faça métodos que calculem o comprimento\n",
    "do segmento de reta e sua inclinação."
   ]
  },
  {
   "cell_type": "code",
   "execution_count": 23,
   "metadata": {},
   "outputs": [
    {
     "name": "stdout",
     "output_type": "stream",
     "text": [
      "comprimento é 2.23606797749979\n",
      "inclinacao é 2.0\n"
     ]
    }
   ],
   "source": [
    "import math\n",
    "\n",
    "class Linha:\n",
    "    def __init__(self,cord1,cord2):\n",
    "        self.cord1 = cord1\n",
    "        self.cord2 = cord2\n",
    "    \n",
    "    #metodo para calcular comprimento\n",
    "    def calculaComprimento(self,cord1,cord2):\n",
    "        a,b = cord1\n",
    "        c,d = cord2\n",
    "        return math.sqrt(((b - a)**2) + ((d - c)**2))\n",
    "    \n",
    "    #metodo para calcular inclinacao\n",
    "    def calculaInclinacao(self,cord1,cord2):\n",
    "        a,b = cord1\n",
    "        c,d = cord2\n",
    "        return ((d - c)/(b - a))\n",
    "    \n",
    "t1=(2,3)\n",
    "t2=(2,4)\n",
    "l = Linha(t1,t2)\n",
    "\n",
    "print(\"comprimento é \" + str(l.calculaComprimento(t1,t2)))\n",
    "print(\"inclinacao é \" + str(l.calculaInclinacao(t1,t2)))"
   ]
  },
  {
   "cell_type": "code",
   "execution_count": 4,
   "metadata": {},
   "outputs": [
    {
     "name": "stdout",
     "output_type": "stream",
     "text": [
      "<class 'tuple'>\n"
     ]
    }
   ],
   "source": [
    "t = (1,4,5,6,7)\n",
    "print(type(t))"
   ]
  },
  {
   "cell_type": "code",
   "execution_count": 7,
   "metadata": {},
   "outputs": [
    {
     "name": "stdout",
     "output_type": "stream",
     "text": [
      "6\n"
     ]
    }
   ],
   "source": [
    "print (t[3])"
   ]
  },
  {
   "cell_type": "code",
   "execution_count": 8,
   "metadata": {},
   "outputs": [
    {
     "name": "stdout",
     "output_type": "stream",
     "text": [
      "4\n"
     ]
    }
   ],
   "source": [
    "a,b,c,d,e = t\n",
    "print(b)"
   ]
  },
  {
   "cell_type": "markdown",
   "metadata": {},
   "source": [
    "##  Jogo de Blacjack: Faça um joguinho simples em Python."
   ]
  },
  {
   "cell_type": "code",
   "execution_count": 9,
   "metadata": {},
   "outputs": [
    {
     "name": "stdout",
     "output_type": "stream",
     "text": [
      "52\n",
      "2\n",
      "6\n",
      "manilha Copas : valor 2\n",
      "manilha Ouros : valor 4\n",
      "Soma Cartas: 6\n",
      "Quer mais uma ?(S/N)\n",
      "S\n",
      "[<__main__.carta object at 0x00000290EDE1DBA8>]\n",
      "manilha Copas : valor 2\n",
      "manilha Ouros : valor 4\n",
      "manilha Espadas : valor 10\n",
      "Soma Cartas: 16\n",
      "Quer mais uma ?(S/N)\n",
      "S\n",
      "[<__main__.carta object at 0x00000290EDE1DBE0>]\n",
      "manilha Copas : valor 2\n",
      "manilha Ouros : valor 4\n",
      "manilha Espadas : valor 10\n",
      "manilha Espadas : valor J\n",
      "Soma Cartas: 26\n",
      "Perdeu\n"
     ]
    }
   ],
   "source": [
    "import  random\n",
    "\n",
    "class carta:\n",
    "    manilha =\"\"\n",
    "    valor=0\n",
    "    index=0\n",
    "    def __init__(self,manilha,valor,index):\n",
    "        self.manilha = manilha\n",
    "        self.valor = valor\n",
    "        self.index= index\n",
    "\n",
    "    def __str__(self):\n",
    "        return f\"manilha {self.manilha} : valor {self.valor}\"\n",
    "\n",
    "\n",
    "def card_deck():\n",
    "    card_value = ['A','2','3','4','5','6','7','8','9','10','J','Q','K']\n",
    "    card_type = ['Copas','Espadas','Paus','Ouros']\n",
    "    deck = []\n",
    "    k  = 0\n",
    "    for i in card_type:\n",
    "        for j in card_value:\n",
    "            k+=1\n",
    "            cartas = carta(i,j,k)\n",
    "            deck.append(cartas)\n",
    "    return deck\n",
    "\n",
    "\n",
    "def carta_valor(carta,rodada):\n",
    "    if((carta.valor =='10')or (carta.valor =='J')or(carta.valor =='Q')or(carta.valor =='K')):\n",
    "        return 10\n",
    "    elif(carta.valor=='A'):\n",
    "        if(rodada==1):\n",
    "            return 11\n",
    "        else:\n",
    "            return 1\n",
    "    else:\n",
    "        return int(carta.valor)\n",
    "\n",
    "\n",
    "\n",
    "\n",
    "def cartas_ini(deck):\n",
    "    return  random.sample(deck,2)\n",
    "\n",
    "def carta_add(deck):\n",
    "    carta= random.sample(deck,1)\n",
    "    remove_from_deck(carta[0],deck)\n",
    "    print(carta)\n",
    "    return carta[0]\n",
    "\n",
    "def mao_atual(mao,soma):\n",
    "    for carta in mao:\n",
    "        print(carta)\n",
    "    print(f\"Soma Cartas: {soma}\")\n",
    "\n",
    "\n",
    "def remove_from_deck(carta,deck):\n",
    "    deck.pop(int(carta.index))\n",
    "\n",
    "\n",
    "def pricipal():\n",
    "    deck = card_deck()\n",
    "    print(len(deck))\n",
    "\n",
    "    mao = cartas_ini(deck)\n",
    "    soma =  0\n",
    "    rodada = 1\n",
    "    while soma<21:\n",
    "        if rodada ==1:\n",
    "            for cartas in mao:\n",
    "                remove_from_deck(cartas,deck)\n",
    "                soma+= carta_valor(cartas,1)\n",
    "                print(soma)\n",
    "        else:\n",
    "            cont = input(\"Quer mais uma ?(S/N)\\n\")\n",
    "            if cont.upper() ==\"S\":\n",
    "                carta =carta_add(deck)\n",
    "                mao.append(carta)\n",
    "                soma+= carta_valor(carta,2)\n",
    "\n",
    "                pass\n",
    "            else:\n",
    "                break\n",
    "                \n",
    "\n",
    "\n",
    "\n",
    "        mao_atual(mao,soma)\n",
    "\n",
    "        rodada+=1\n",
    "\n",
    "    if soma==21:\n",
    "        print(\"Ganhou!\")\n",
    "    elif soma>21:\n",
    "        print(\"Perdeu\")\n",
    "    else:\n",
    "        print(\"Você desistiu!\")\n",
    "pricipal()"
   ]
  },
  {
   "cell_type": "code",
   "execution_count": null,
   "metadata": {},
   "outputs": [],
   "source": []
  }
 ],
 "metadata": {
  "kernelspec": {
   "display_name": "Python 3",
   "language": "python",
   "name": "python3"
  }
 },
 "nbformat": 4,
 "nbformat_minor": 2
}
